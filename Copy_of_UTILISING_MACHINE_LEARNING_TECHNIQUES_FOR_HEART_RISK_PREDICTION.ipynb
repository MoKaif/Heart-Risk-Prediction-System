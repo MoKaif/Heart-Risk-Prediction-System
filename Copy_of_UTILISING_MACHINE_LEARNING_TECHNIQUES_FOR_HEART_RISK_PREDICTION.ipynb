{
 "cells": [
  {
   "cell_type": "markdown",
   "metadata": {
    "id": "2ISunTxk1AIC"
   },
   "source": [
    "We have a data which classified if patients have heart disease or not according to features in it. We will try to use this data to create a model which tries predict if a patient has this disease or not. We will use Classification algorithms.\n",
    "\n",
    "\n",
    "*   Logistic Regression\n",
    "*   Support Vector Machine\n",
    "* K-Nearest Neighbor\n",
    "* Decision Trees\n",
    "* Random Forest\n",
    "* CatBoost\n"
   ]
  },
  {
   "cell_type": "code",
   "execution_count": 5,
   "metadata": {},
   "outputs": [
    {
     "name": "stdout",
     "output_type": "stream",
     "text": [
      "Requirement already satisfied: numpy in c:\\users\\kaif4\\anaconda3\\lib\\site-packages (1.24.2)\n",
      "Requirement already satisfied: pandas in c:\\users\\kaif4\\anaconda3\\lib\\site-packages (1.5.3)\n",
      "Requirement already satisfied: matplotlib in c:\\users\\kaif4\\anaconda3\\lib\\site-packages (3.7.1)\n",
      "Requirement already satisfied: seaborn in c:\\users\\kaif4\\anaconda3\\lib\\site-packages (0.12.2)\n",
      "Requirement already satisfied: scikit-learn in c:\\users\\kaif4\\anaconda3\\lib\\site-packages (1.2.2)\n",
      "Requirement already satisfied: python-dateutil>=2.8.1 in c:\\users\\kaif4\\anaconda3\\lib\\site-packages (from pandas) (2.8.2)\n",
      "Requirement already satisfied: pytz>=2020.1 in c:\\users\\kaif4\\anaconda3\\lib\\site-packages (from pandas) (2022.7)\n",
      "Requirement already satisfied: contourpy>=1.0.1 in c:\\users\\kaif4\\anaconda3\\lib\\site-packages (from matplotlib) (1.0.7)\n",
      "Requirement already satisfied: kiwisolver>=1.0.1 in c:\\users\\kaif4\\anaconda3\\lib\\site-packages (from matplotlib) (1.4.4)\n",
      "Requirement already satisfied: pillow>=6.2.0 in c:\\users\\kaif4\\anaconda3\\lib\\site-packages (from matplotlib) (9.4.0)\n",
      "Requirement already satisfied: fonttools>=4.22.0 in c:\\users\\kaif4\\anaconda3\\lib\\site-packages (from matplotlib) (4.39.2)\n",
      "Requirement already satisfied: pyparsing>=2.3.1 in c:\\users\\kaif4\\anaconda3\\lib\\site-packages (from matplotlib) (3.0.9)\n",
      "Requirement already satisfied: cycler>=0.10 in c:\\users\\kaif4\\anaconda3\\lib\\site-packages (from matplotlib) (0.11.0)\n",
      "Requirement already satisfied: importlib-resources>=3.2.0 in c:\\users\\kaif4\\anaconda3\\lib\\site-packages (from matplotlib) (5.12.0)\n",
      "Requirement already satisfied: packaging>=20.0 in c:\\users\\kaif4\\anaconda3\\lib\\site-packages (from matplotlib) (23.0)\n",
      "Requirement already satisfied: joblib>=1.1.1 in c:\\users\\kaif4\\anaconda3\\lib\\site-packages (from scikit-learn) (1.2.0)\n",
      "Requirement already satisfied: scipy>=1.3.2 in c:\\users\\kaif4\\anaconda3\\lib\\site-packages (from scikit-learn) (1.10.1)\n",
      "Requirement already satisfied: threadpoolctl>=2.0.0 in c:\\users\\kaif4\\anaconda3\\lib\\site-packages (from scikit-learn) (3.1.0)\n",
      "Requirement already satisfied: zipp>=3.1.0 in c:\\users\\kaif4\\anaconda3\\lib\\site-packages (from importlib-resources>=3.2.0->matplotlib) (3.15.0)\n",
      "Requirement already satisfied: six>=1.5 in c:\\users\\kaif4\\anaconda3\\lib\\site-packages (from python-dateutil>=2.8.1->pandas) (1.16.0)\n",
      "Note: you may need to restart the kernel to use updated packages.\n"
     ]
    }
   ],
   "source": [
    "pip install numpy pandas matplotlib seaborn scikit-learn\n"
   ]
  },
  {
   "cell_type": "code",
   "execution_count": 6,
   "metadata": {
    "id": "2P4tAy05kK-p"
   },
   "outputs": [],
   "source": [
    "# import warnings\n",
    "# warnings.filterwarnings('ignore')\n",
    "import numpy as np\n",
    "import pandas as pd\n",
    "import matplotlib.pyplot as plt\n",
    "import seaborn as sns\n",
    "from sklearn.model_selection import train_test_split\n",
    "from sklearn.linear_model import LogisticRegression\n",
    "from sklearn import svm\n",
    "from sklearn.preprocessing import LabelEncoder\n",
    "\n",
    "#For Model Evaluation\n",
    "from sklearn.metrics import precision_recall_fscore_support as score\n",
    "from sklearn.metrics import confusion_matrix, accuracy_score, roc_auc_score,f1_score,classification_report,recall_score\n",
    "from sklearn.preprocessing import label_binarize"
   ]
  },
  {
   "cell_type": "markdown",
   "metadata": {
    "id": "RO0zTq561XTB"
   },
   "source": [
    "### **Read Data**\n",
    "\n",
    "---\n",
    "\n"
   ]
  },
  {
   "cell_type": "code",
   "execution_count": 7,
   "metadata": {
    "colab": {
     "base_uri": "https://localhost:8080/"
    },
    "id": "RugU1AWGe1rW",
    "outputId": "42d787f4-9210-4731-b55d-a0519aebdc7d"
   },
   "outputs": [],
   "source": [
    "# from google.colab import drive\n",
    "# drive.mount('/content/drive')"
   ]
  },
  {
   "cell_type": "code",
   "execution_count": 8,
   "metadata": {
    "id": "ufIBcJ3rlrZ9"
   },
   "outputs": [],
   "source": [
    "df = pd.read_csv('./heart.csv')"
   ]
  },
  {
   "cell_type": "code",
   "execution_count": 9,
   "metadata": {
    "colab": {
     "base_uri": "https://localhost:8080/",
     "height": 270
    },
    "id": "U7-P2ag9l1QE",
    "outputId": "5ccb7319-0193-4e18-9b88-9de0a6e22d08"
   },
   "outputs": [
    {
     "data": {
      "text/html": [
       "<div>\n",
       "<style scoped>\n",
       "    .dataframe tbody tr th:only-of-type {\n",
       "        vertical-align: middle;\n",
       "    }\n",
       "\n",
       "    .dataframe tbody tr th {\n",
       "        vertical-align: top;\n",
       "    }\n",
       "\n",
       "    .dataframe thead th {\n",
       "        text-align: right;\n",
       "    }\n",
       "</style>\n",
       "<table border=\"1\" class=\"dataframe\">\n",
       "  <thead>\n",
       "    <tr style=\"text-align: right;\">\n",
       "      <th></th>\n",
       "      <th>Age</th>\n",
       "      <th>Sex</th>\n",
       "      <th>ChestPainType</th>\n",
       "      <th>RestingBP</th>\n",
       "      <th>Cholesterol</th>\n",
       "      <th>FastingBS</th>\n",
       "      <th>RestingECG</th>\n",
       "      <th>MaxHR</th>\n",
       "      <th>ExerciseAngina</th>\n",
       "      <th>Oldpeak</th>\n",
       "      <th>ST_Slope</th>\n",
       "      <th>HeartDisease</th>\n",
       "    </tr>\n",
       "  </thead>\n",
       "  <tbody>\n",
       "    <tr>\n",
       "      <th>0</th>\n",
       "      <td>40</td>\n",
       "      <td>M</td>\n",
       "      <td>ATA</td>\n",
       "      <td>140</td>\n",
       "      <td>289</td>\n",
       "      <td>0</td>\n",
       "      <td>Normal</td>\n",
       "      <td>172</td>\n",
       "      <td>N</td>\n",
       "      <td>0.0</td>\n",
       "      <td>Up</td>\n",
       "      <td>0</td>\n",
       "    </tr>\n",
       "    <tr>\n",
       "      <th>1</th>\n",
       "      <td>49</td>\n",
       "      <td>F</td>\n",
       "      <td>NAP</td>\n",
       "      <td>160</td>\n",
       "      <td>180</td>\n",
       "      <td>0</td>\n",
       "      <td>Normal</td>\n",
       "      <td>156</td>\n",
       "      <td>N</td>\n",
       "      <td>1.0</td>\n",
       "      <td>Flat</td>\n",
       "      <td>1</td>\n",
       "    </tr>\n",
       "    <tr>\n",
       "      <th>2</th>\n",
       "      <td>37</td>\n",
       "      <td>M</td>\n",
       "      <td>ATA</td>\n",
       "      <td>130</td>\n",
       "      <td>283</td>\n",
       "      <td>0</td>\n",
       "      <td>ST</td>\n",
       "      <td>98</td>\n",
       "      <td>N</td>\n",
       "      <td>0.0</td>\n",
       "      <td>Up</td>\n",
       "      <td>0</td>\n",
       "    </tr>\n",
       "    <tr>\n",
       "      <th>3</th>\n",
       "      <td>48</td>\n",
       "      <td>F</td>\n",
       "      <td>ASY</td>\n",
       "      <td>138</td>\n",
       "      <td>214</td>\n",
       "      <td>0</td>\n",
       "      <td>Normal</td>\n",
       "      <td>108</td>\n",
       "      <td>Y</td>\n",
       "      <td>1.5</td>\n",
       "      <td>Flat</td>\n",
       "      <td>1</td>\n",
       "    </tr>\n",
       "    <tr>\n",
       "      <th>4</th>\n",
       "      <td>54</td>\n",
       "      <td>M</td>\n",
       "      <td>NAP</td>\n",
       "      <td>150</td>\n",
       "      <td>195</td>\n",
       "      <td>0</td>\n",
       "      <td>Normal</td>\n",
       "      <td>122</td>\n",
       "      <td>N</td>\n",
       "      <td>0.0</td>\n",
       "      <td>Up</td>\n",
       "      <td>0</td>\n",
       "    </tr>\n",
       "  </tbody>\n",
       "</table>\n",
       "</div>"
      ],
      "text/plain": [
       "   Age Sex ChestPainType  RestingBP  Cholesterol  FastingBS RestingECG  MaxHR  \\\n",
       "0   40   M           ATA        140          289          0     Normal    172   \n",
       "1   49   F           NAP        160          180          0     Normal    156   \n",
       "2   37   M           ATA        130          283          0         ST     98   \n",
       "3   48   F           ASY        138          214          0     Normal    108   \n",
       "4   54   M           NAP        150          195          0     Normal    122   \n",
       "\n",
       "  ExerciseAngina  Oldpeak ST_Slope  HeartDisease  \n",
       "0              N      0.0       Up             0  \n",
       "1              N      1.0     Flat             1  \n",
       "2              N      0.0       Up             0  \n",
       "3              Y      1.5     Flat             1  \n",
       "4              N      0.0       Up             0  "
      ]
     },
     "execution_count": 9,
     "metadata": {},
     "output_type": "execute_result"
    }
   ],
   "source": [
    "df.head()"
   ]
  },
  {
   "cell_type": "code",
   "execution_count": 10,
   "metadata": {
    "colab": {
     "base_uri": "https://localhost:8080/"
    },
    "id": "IjwrMl6Sl7_E",
    "outputId": "591e2b78-3646-418c-9843-c32558a20683"
   },
   "outputs": [
    {
     "data": {
      "text/plain": [
       "(918, 12)"
      ]
     },
     "execution_count": 10,
     "metadata": {},
     "output_type": "execute_result"
    }
   ],
   "source": [
    "df.shape"
   ]
  },
  {
   "cell_type": "code",
   "execution_count": 11,
   "metadata": {
    "colab": {
     "base_uri": "https://localhost:8080/"
    },
    "id": "58sD6t4dl_5s",
    "outputId": "f5136a4e-bf8a-4c56-febc-6f6890a89f42"
   },
   "outputs": [
    {
     "name": "stdout",
     "output_type": "stream",
     "text": [
      "<class 'pandas.core.frame.DataFrame'>\n",
      "RangeIndex: 918 entries, 0 to 917\n",
      "Data columns (total 12 columns):\n",
      " #   Column          Non-Null Count  Dtype  \n",
      "---  ------          --------------  -----  \n",
      " 0   Age             918 non-null    int64  \n",
      " 1   Sex             918 non-null    object \n",
      " 2   ChestPainType   918 non-null    object \n",
      " 3   RestingBP       918 non-null    int64  \n",
      " 4   Cholesterol     918 non-null    int64  \n",
      " 5   FastingBS       918 non-null    int64  \n",
      " 6   RestingECG      918 non-null    object \n",
      " 7   MaxHR           918 non-null    int64  \n",
      " 8   ExerciseAngina  918 non-null    object \n",
      " 9   Oldpeak         918 non-null    float64\n",
      " 10  ST_Slope        918 non-null    object \n",
      " 11  HeartDisease    918 non-null    int64  \n",
      "dtypes: float64(1), int64(6), object(5)\n",
      "memory usage: 86.2+ KB\n"
     ]
    }
   ],
   "source": [
    "df.info()"
   ]
  },
  {
   "cell_type": "markdown",
   "metadata": {
    "id": "NneqVGYd1krK"
   },
   "source": [
    "Data contains;\n",
    "\n",
    "* Age - age in years\n",
    "* Sex - (1 = male; 0 = female)\n",
    "* ChestPainType - chest pain type\n",
    "* RestingBP - resting blood pressure (in mm Hg on admission to the hospital)\n",
    "* Cholesterol - serum cholestoral in mg/dl\n",
    "* FastingBS  - (fasting blood sugar > 120 mg/dl) (1 = true; 0 = false)\n",
    "* RestingECG  - resting electrocardiographic results\n",
    "* MaxHR - maximum heart rate achieved\n",
    "* ExerciseAngina - exercise induced angina (1 = yes; 0 = no)\n",
    "* Oldpeak - ST depression induced by exercise relative to rest\n",
    "* ST_Slope - the slope of the peak exercise ST segment\n",
    "* HeartDisease - have disease or not (1=yes, 0=no)"
   ]
  },
  {
   "cell_type": "code",
   "execution_count": 12,
   "metadata": {
    "colab": {
     "base_uri": "https://localhost:8080/"
    },
    "id": "z1teaQKpmJFk",
    "outputId": "b311621b-3e30-4811-c25f-1132f3067388"
   },
   "outputs": [
    {
     "data": {
      "text/plain": [
       "Index(['Age', 'Sex', 'ChestPainType', 'RestingBP', 'Cholesterol', 'FastingBS',\n",
       "       'RestingECG', 'MaxHR', 'ExerciseAngina', 'Oldpeak', 'ST_Slope',\n",
       "       'HeartDisease'],\n",
       "      dtype='object')"
      ]
     },
     "execution_count": 12,
     "metadata": {},
     "output_type": "execute_result"
    }
   ],
   "source": [
    "df.columns"
   ]
  },
  {
   "cell_type": "code",
   "execution_count": 13,
   "metadata": {
    "id": "IOwSUDyJmPid"
   },
   "outputs": [],
   "source": [
    "en = LabelEncoder()"
   ]
  },
  {
   "cell_type": "code",
   "execution_count": 14,
   "metadata": {
    "id": "tR1Ny9bat2pH"
   },
   "outputs": [],
   "source": [
    "# df.drop(columns=['ChestPainType','RestingECG','ST_Slope'])\n",
    "cols = ['Sex','ChestPainType','RestingECG','ExerciseAngina','ST_Slope']\n",
    "for col in cols:\n",
    "    df[col] = en.fit_transform(df[col])"
   ]
  },
  {
   "cell_type": "code",
   "execution_count": 15,
   "metadata": {
    "colab": {
     "base_uri": "https://localhost:8080/",
     "height": 364
    },
    "id": "6VcGT5Cxnmp1",
    "outputId": "52ec720c-8178-40af-dc98-0f3dbe454b36"
   },
   "outputs": [
    {
     "data": {
      "text/html": [
       "<div>\n",
       "<style scoped>\n",
       "    .dataframe tbody tr th:only-of-type {\n",
       "        vertical-align: middle;\n",
       "    }\n",
       "\n",
       "    .dataframe tbody tr th {\n",
       "        vertical-align: top;\n",
       "    }\n",
       "\n",
       "    .dataframe thead th {\n",
       "        text-align: right;\n",
       "    }\n",
       "</style>\n",
       "<table border=\"1\" class=\"dataframe\">\n",
       "  <thead>\n",
       "    <tr style=\"text-align: right;\">\n",
       "      <th></th>\n",
       "      <th>Age</th>\n",
       "      <th>Sex</th>\n",
       "      <th>ChestPainType</th>\n",
       "      <th>RestingBP</th>\n",
       "      <th>Cholesterol</th>\n",
       "      <th>FastingBS</th>\n",
       "      <th>RestingECG</th>\n",
       "      <th>MaxHR</th>\n",
       "      <th>ExerciseAngina</th>\n",
       "      <th>Oldpeak</th>\n",
       "      <th>ST_Slope</th>\n",
       "      <th>HeartDisease</th>\n",
       "    </tr>\n",
       "  </thead>\n",
       "  <tbody>\n",
       "    <tr>\n",
       "      <th>count</th>\n",
       "      <td>918.000000</td>\n",
       "      <td>918.000000</td>\n",
       "      <td>918.000000</td>\n",
       "      <td>918.000000</td>\n",
       "      <td>918.000000</td>\n",
       "      <td>918.000000</td>\n",
       "      <td>918.000000</td>\n",
       "      <td>918.000000</td>\n",
       "      <td>918.000000</td>\n",
       "      <td>918.000000</td>\n",
       "      <td>918.000000</td>\n",
       "      <td>918.000000</td>\n",
       "    </tr>\n",
       "    <tr>\n",
       "      <th>mean</th>\n",
       "      <td>53.510893</td>\n",
       "      <td>0.789760</td>\n",
       "      <td>0.781046</td>\n",
       "      <td>132.396514</td>\n",
       "      <td>198.799564</td>\n",
       "      <td>0.233115</td>\n",
       "      <td>0.989107</td>\n",
       "      <td>136.809368</td>\n",
       "      <td>0.404139</td>\n",
       "      <td>0.887364</td>\n",
       "      <td>1.361656</td>\n",
       "      <td>0.553377</td>\n",
       "    </tr>\n",
       "    <tr>\n",
       "      <th>std</th>\n",
       "      <td>9.432617</td>\n",
       "      <td>0.407701</td>\n",
       "      <td>0.956519</td>\n",
       "      <td>18.514154</td>\n",
       "      <td>109.384145</td>\n",
       "      <td>0.423046</td>\n",
       "      <td>0.631671</td>\n",
       "      <td>25.460334</td>\n",
       "      <td>0.490992</td>\n",
       "      <td>1.066570</td>\n",
       "      <td>0.607056</td>\n",
       "      <td>0.497414</td>\n",
       "    </tr>\n",
       "    <tr>\n",
       "      <th>min</th>\n",
       "      <td>28.000000</td>\n",
       "      <td>0.000000</td>\n",
       "      <td>0.000000</td>\n",
       "      <td>0.000000</td>\n",
       "      <td>0.000000</td>\n",
       "      <td>0.000000</td>\n",
       "      <td>0.000000</td>\n",
       "      <td>60.000000</td>\n",
       "      <td>0.000000</td>\n",
       "      <td>-2.600000</td>\n",
       "      <td>0.000000</td>\n",
       "      <td>0.000000</td>\n",
       "    </tr>\n",
       "    <tr>\n",
       "      <th>25%</th>\n",
       "      <td>47.000000</td>\n",
       "      <td>1.000000</td>\n",
       "      <td>0.000000</td>\n",
       "      <td>120.000000</td>\n",
       "      <td>173.250000</td>\n",
       "      <td>0.000000</td>\n",
       "      <td>1.000000</td>\n",
       "      <td>120.000000</td>\n",
       "      <td>0.000000</td>\n",
       "      <td>0.000000</td>\n",
       "      <td>1.000000</td>\n",
       "      <td>0.000000</td>\n",
       "    </tr>\n",
       "    <tr>\n",
       "      <th>50%</th>\n",
       "      <td>54.000000</td>\n",
       "      <td>1.000000</td>\n",
       "      <td>0.000000</td>\n",
       "      <td>130.000000</td>\n",
       "      <td>223.000000</td>\n",
       "      <td>0.000000</td>\n",
       "      <td>1.000000</td>\n",
       "      <td>138.000000</td>\n",
       "      <td>0.000000</td>\n",
       "      <td>0.600000</td>\n",
       "      <td>1.000000</td>\n",
       "      <td>1.000000</td>\n",
       "    </tr>\n",
       "    <tr>\n",
       "      <th>75%</th>\n",
       "      <td>60.000000</td>\n",
       "      <td>1.000000</td>\n",
       "      <td>2.000000</td>\n",
       "      <td>140.000000</td>\n",
       "      <td>267.000000</td>\n",
       "      <td>0.000000</td>\n",
       "      <td>1.000000</td>\n",
       "      <td>156.000000</td>\n",
       "      <td>1.000000</td>\n",
       "      <td>1.500000</td>\n",
       "      <td>2.000000</td>\n",
       "      <td>1.000000</td>\n",
       "    </tr>\n",
       "    <tr>\n",
       "      <th>max</th>\n",
       "      <td>77.000000</td>\n",
       "      <td>1.000000</td>\n",
       "      <td>3.000000</td>\n",
       "      <td>200.000000</td>\n",
       "      <td>603.000000</td>\n",
       "      <td>1.000000</td>\n",
       "      <td>2.000000</td>\n",
       "      <td>202.000000</td>\n",
       "      <td>1.000000</td>\n",
       "      <td>6.200000</td>\n",
       "      <td>2.000000</td>\n",
       "      <td>1.000000</td>\n",
       "    </tr>\n",
       "  </tbody>\n",
       "</table>\n",
       "</div>"
      ],
      "text/plain": [
       "              Age         Sex  ChestPainType   RestingBP  Cholesterol  \\\n",
       "count  918.000000  918.000000     918.000000  918.000000   918.000000   \n",
       "mean    53.510893    0.789760       0.781046  132.396514   198.799564   \n",
       "std      9.432617    0.407701       0.956519   18.514154   109.384145   \n",
       "min     28.000000    0.000000       0.000000    0.000000     0.000000   \n",
       "25%     47.000000    1.000000       0.000000  120.000000   173.250000   \n",
       "50%     54.000000    1.000000       0.000000  130.000000   223.000000   \n",
       "75%     60.000000    1.000000       2.000000  140.000000   267.000000   \n",
       "max     77.000000    1.000000       3.000000  200.000000   603.000000   \n",
       "\n",
       "        FastingBS  RestingECG       MaxHR  ExerciseAngina     Oldpeak  \\\n",
       "count  918.000000  918.000000  918.000000      918.000000  918.000000   \n",
       "mean     0.233115    0.989107  136.809368        0.404139    0.887364   \n",
       "std      0.423046    0.631671   25.460334        0.490992    1.066570   \n",
       "min      0.000000    0.000000   60.000000        0.000000   -2.600000   \n",
       "25%      0.000000    1.000000  120.000000        0.000000    0.000000   \n",
       "50%      0.000000    1.000000  138.000000        0.000000    0.600000   \n",
       "75%      0.000000    1.000000  156.000000        1.000000    1.500000   \n",
       "max      1.000000    2.000000  202.000000        1.000000    6.200000   \n",
       "\n",
       "         ST_Slope  HeartDisease  \n",
       "count  918.000000    918.000000  \n",
       "mean     1.361656      0.553377  \n",
       "std      0.607056      0.497414  \n",
       "min      0.000000      0.000000  \n",
       "25%      1.000000      0.000000  \n",
       "50%      1.000000      1.000000  \n",
       "75%      2.000000      1.000000  \n",
       "max      2.000000      1.000000  "
      ]
     },
     "execution_count": 15,
     "metadata": {},
     "output_type": "execute_result"
    }
   ],
   "source": [
    "df.describe()"
   ]
  },
  {
   "cell_type": "code",
   "execution_count": 16,
   "metadata": {
    "colab": {
     "base_uri": "https://localhost:8080/",
     "height": 207
    },
    "id": "wpSGD04GpnJu",
    "outputId": "d20be174-c7ac-4984-9731-60883a2ea455"
   },
   "outputs": [
    {
     "data": {
      "text/html": [
       "<div>\n",
       "<style scoped>\n",
       "    .dataframe tbody tr th:only-of-type {\n",
       "        vertical-align: middle;\n",
       "    }\n",
       "\n",
       "    .dataframe tbody tr th {\n",
       "        vertical-align: top;\n",
       "    }\n",
       "\n",
       "    .dataframe thead th {\n",
       "        text-align: right;\n",
       "    }\n",
       "</style>\n",
       "<table border=\"1\" class=\"dataframe\">\n",
       "  <thead>\n",
       "    <tr style=\"text-align: right;\">\n",
       "      <th></th>\n",
       "      <th>Age</th>\n",
       "      <th>Sex</th>\n",
       "      <th>ChestPainType</th>\n",
       "      <th>RestingBP</th>\n",
       "      <th>Cholesterol</th>\n",
       "      <th>FastingBS</th>\n",
       "      <th>RestingECG</th>\n",
       "      <th>MaxHR</th>\n",
       "      <th>ExerciseAngina</th>\n",
       "      <th>Oldpeak</th>\n",
       "      <th>ST_Slope</th>\n",
       "    </tr>\n",
       "    <tr>\n",
       "      <th>HeartDisease</th>\n",
       "      <th></th>\n",
       "      <th></th>\n",
       "      <th></th>\n",
       "      <th></th>\n",
       "      <th></th>\n",
       "      <th></th>\n",
       "      <th></th>\n",
       "      <th></th>\n",
       "      <th></th>\n",
       "      <th></th>\n",
       "      <th></th>\n",
       "    </tr>\n",
       "  </thead>\n",
       "  <tbody>\n",
       "    <tr>\n",
       "      <th>0</th>\n",
       "      <td>50.551220</td>\n",
       "      <td>0.651220</td>\n",
       "      <td>1.192683</td>\n",
       "      <td>130.180488</td>\n",
       "      <td>227.121951</td>\n",
       "      <td>0.107317</td>\n",
       "      <td>0.948780</td>\n",
       "      <td>148.151220</td>\n",
       "      <td>0.134146</td>\n",
       "      <td>0.408049</td>\n",
       "      <td>1.739024</td>\n",
       "    </tr>\n",
       "    <tr>\n",
       "      <th>1</th>\n",
       "      <td>55.899606</td>\n",
       "      <td>0.901575</td>\n",
       "      <td>0.448819</td>\n",
       "      <td>134.185039</td>\n",
       "      <td>175.940945</td>\n",
       "      <td>0.334646</td>\n",
       "      <td>1.021654</td>\n",
       "      <td>127.655512</td>\n",
       "      <td>0.622047</td>\n",
       "      <td>1.274213</td>\n",
       "      <td>1.057087</td>\n",
       "    </tr>\n",
       "  </tbody>\n",
       "</table>\n",
       "</div>"
      ],
      "text/plain": [
       "                    Age       Sex  ChestPainType   RestingBP  Cholesterol  \\\n",
       "HeartDisease                                                                \n",
       "0             50.551220  0.651220       1.192683  130.180488   227.121951   \n",
       "1             55.899606  0.901575       0.448819  134.185039   175.940945   \n",
       "\n",
       "              FastingBS  RestingECG       MaxHR  ExerciseAngina   Oldpeak  \\\n",
       "HeartDisease                                                                \n",
       "0              0.107317    0.948780  148.151220        0.134146  0.408049   \n",
       "1              0.334646    1.021654  127.655512        0.622047  1.274213   \n",
       "\n",
       "              ST_Slope  \n",
       "HeartDisease            \n",
       "0             1.739024  \n",
       "1             1.057087  "
      ]
     },
     "execution_count": 16,
     "metadata": {},
     "output_type": "execute_result"
    }
   ],
   "source": [
    "df.groupby('HeartDisease').mean()"
   ]
  },
  {
   "cell_type": "code",
   "execution_count": 17,
   "metadata": {
    "colab": {
     "base_uri": "https://localhost:8080/",
     "height": 270
    },
    "id": "3d6Yeg2CukIA",
    "outputId": "9d128026-f239-4f9b-fb5b-9a8f72362228"
   },
   "outputs": [
    {
     "data": {
      "text/html": [
       "<div>\n",
       "<style scoped>\n",
       "    .dataframe tbody tr th:only-of-type {\n",
       "        vertical-align: middle;\n",
       "    }\n",
       "\n",
       "    .dataframe tbody tr th {\n",
       "        vertical-align: top;\n",
       "    }\n",
       "\n",
       "    .dataframe thead th {\n",
       "        text-align: right;\n",
       "    }\n",
       "</style>\n",
       "<table border=\"1\" class=\"dataframe\">\n",
       "  <thead>\n",
       "    <tr style=\"text-align: right;\">\n",
       "      <th></th>\n",
       "      <th>Age</th>\n",
       "      <th>Sex</th>\n",
       "      <th>ChestPainType</th>\n",
       "      <th>RestingBP</th>\n",
       "      <th>Cholesterol</th>\n",
       "      <th>FastingBS</th>\n",
       "      <th>RestingECG</th>\n",
       "      <th>MaxHR</th>\n",
       "      <th>ExerciseAngina</th>\n",
       "      <th>Oldpeak</th>\n",
       "      <th>ST_Slope</th>\n",
       "      <th>HeartDisease</th>\n",
       "    </tr>\n",
       "  </thead>\n",
       "  <tbody>\n",
       "    <tr>\n",
       "      <th>0</th>\n",
       "      <td>40</td>\n",
       "      <td>1</td>\n",
       "      <td>1</td>\n",
       "      <td>140</td>\n",
       "      <td>289</td>\n",
       "      <td>0</td>\n",
       "      <td>1</td>\n",
       "      <td>172</td>\n",
       "      <td>0</td>\n",
       "      <td>0.0</td>\n",
       "      <td>2</td>\n",
       "      <td>0</td>\n",
       "    </tr>\n",
       "    <tr>\n",
       "      <th>1</th>\n",
       "      <td>49</td>\n",
       "      <td>0</td>\n",
       "      <td>2</td>\n",
       "      <td>160</td>\n",
       "      <td>180</td>\n",
       "      <td>0</td>\n",
       "      <td>1</td>\n",
       "      <td>156</td>\n",
       "      <td>0</td>\n",
       "      <td>1.0</td>\n",
       "      <td>1</td>\n",
       "      <td>1</td>\n",
       "    </tr>\n",
       "    <tr>\n",
       "      <th>2</th>\n",
       "      <td>37</td>\n",
       "      <td>1</td>\n",
       "      <td>1</td>\n",
       "      <td>130</td>\n",
       "      <td>283</td>\n",
       "      <td>0</td>\n",
       "      <td>2</td>\n",
       "      <td>98</td>\n",
       "      <td>0</td>\n",
       "      <td>0.0</td>\n",
       "      <td>2</td>\n",
       "      <td>0</td>\n",
       "    </tr>\n",
       "    <tr>\n",
       "      <th>3</th>\n",
       "      <td>48</td>\n",
       "      <td>0</td>\n",
       "      <td>0</td>\n",
       "      <td>138</td>\n",
       "      <td>214</td>\n",
       "      <td>0</td>\n",
       "      <td>1</td>\n",
       "      <td>108</td>\n",
       "      <td>1</td>\n",
       "      <td>1.5</td>\n",
       "      <td>1</td>\n",
       "      <td>1</td>\n",
       "    </tr>\n",
       "    <tr>\n",
       "      <th>4</th>\n",
       "      <td>54</td>\n",
       "      <td>1</td>\n",
       "      <td>2</td>\n",
       "      <td>150</td>\n",
       "      <td>195</td>\n",
       "      <td>0</td>\n",
       "      <td>1</td>\n",
       "      <td>122</td>\n",
       "      <td>0</td>\n",
       "      <td>0.0</td>\n",
       "      <td>2</td>\n",
       "      <td>0</td>\n",
       "    </tr>\n",
       "  </tbody>\n",
       "</table>\n",
       "</div>"
      ],
      "text/plain": [
       "   Age  Sex  ChestPainType  RestingBP  Cholesterol  FastingBS  RestingECG  \\\n",
       "0   40    1              1        140          289          0           1   \n",
       "1   49    0              2        160          180          0           1   \n",
       "2   37    1              1        130          283          0           2   \n",
       "3   48    0              0        138          214          0           1   \n",
       "4   54    1              2        150          195          0           1   \n",
       "\n",
       "   MaxHR  ExerciseAngina  Oldpeak  ST_Slope  HeartDisease  \n",
       "0    172               0      0.0         2             0  \n",
       "1    156               0      1.0         1             1  \n",
       "2     98               0      0.0         2             0  \n",
       "3    108               1      1.5         1             1  \n",
       "4    122               0      0.0         2             0  "
      ]
     },
     "execution_count": 17,
     "metadata": {},
     "output_type": "execute_result"
    }
   ],
   "source": [
    "df.head()"
   ]
  },
  {
   "cell_type": "markdown",
   "metadata": {
    "id": "Ivis4EUqnFP6"
   },
   "source": [
    "## **Data Preprocessing**"
   ]
  },
  {
   "cell_type": "code",
   "execution_count": 18,
   "metadata": {
    "colab": {
     "base_uri": "https://localhost:8080/"
    },
    "id": "BjscZeVel12R",
    "outputId": "c877ef20-bba1-4c40-df79-d8fb9cbd16af"
   },
   "outputs": [
    {
     "name": "stdout",
     "output_type": "stream",
     "text": [
      "Outliers on RestingBP:\n"
     ]
    },
    {
     "data": {
      "text/plain": [
       "HeartDisease\n",
       "1    28\n",
       "0    13\n",
       "dtype: int64"
      ]
     },
     "execution_count": 18,
     "metadata": {},
     "output_type": "execute_result"
    }
   ],
   "source": [
    "# RestingBP\n",
    "# RestingBP represents the blood pressure of the patient. It is impossible to have values equal to 0; that's why I'll remove the outlier with value 0.\n",
    "df = df.drop(df[(df['RestingBP'] == 0)].index)\n",
    "# df.head()\n",
    "# Dealing with the outliers (RestingBP)\n",
    "q1 = df['RestingBP'].quantile(0.25)\n",
    "q3 = df['RestingBP'].quantile(0.75)\n",
    "iqr = q3-q1\n",
    "Lower_tail = q1 - 1.5 * iqr\n",
    "Upper_tail = q3 + 1.5 * iqr\n",
    "\n",
    "u = df[(df['RestingBP'] >= Upper_tail) | (df['RestingBP'] <= Lower_tail)]  # | means \"or\"\n",
    "u = pd.DataFrame(u)\n",
    "print('Outliers on RestingBP:')\n",
    "u.value_counts(u['HeartDisease'])\n"
   ]
  },
  {
   "cell_type": "code",
   "execution_count": 19,
   "metadata": {
    "id": "ZSMQ-EgGor8-"
   },
   "outputs": [],
   "source": [
    "med = np.median(df['RestingBP'])\n",
    "for i in df['RestingBP']:\n",
    "    if i > Upper_tail or i < Lower_tail:\n",
    "            df['RestingBP'] = df['RestingBP'].replace(i, med)"
   ]
  },
  {
   "cell_type": "code",
   "execution_count": 20,
   "metadata": {
    "colab": {
     "base_uri": "https://localhost:8080/"
    },
    "id": "_JL1-qcyoAen",
    "outputId": "49be4183-7c3a-49e9-9335-9a1eb4558cfc"
   },
   "outputs": [
    {
     "name": "stdout",
     "output_type": "stream",
     "text": [
      "Outliers on Cholesterol:\n"
     ]
    },
    {
     "data": {
      "text/plain": [
       "HeartDisease\n",
       "1    158\n",
       "0     25\n",
       "dtype: int64"
      ]
     },
     "execution_count": 20,
     "metadata": {},
     "output_type": "execute_result"
    }
   ],
   "source": [
    "# Dealing with outliers (Cholesterol)\n",
    "q1 = df['Cholesterol'].quantile(0.25)\n",
    "q3 = df['Cholesterol'].quantile(0.75)\n",
    "iqr = q3-q1\n",
    "Lower_tail = q1 - 1.5 * iqr\n",
    "Upper_tail = q3 + 1.5 * iqr\n",
    "\n",
    "u = df[(df['Cholesterol'] >= Upper_tail) | (df['Cholesterol'] <= Lower_tail)]  # | means \"or\"\n",
    "u = pd.DataFrame(u)\n",
    "print('Outliers on Cholesterol:')\n",
    "u.value_counts(df['HeartDisease'])"
   ]
  },
  {
   "cell_type": "code",
   "execution_count": 21,
   "metadata": {
    "id": "r2PYENfrpP2Z"
   },
   "outputs": [],
   "source": [
    "# Median imputation (Cholesterol) just on upper tail\n",
    "med = np.median(df['Cholesterol'])\n",
    "for i in df['Cholesterol']:\n",
    "    if i > Upper_tail:\n",
    "            df['Cholesterol'] = df['Cholesterol'].replace(i, med)"
   ]
  },
  {
   "cell_type": "code",
   "execution_count": 22,
   "metadata": {
    "colab": {
     "base_uri": "https://localhost:8080/"
    },
    "id": "gFUVIWRopebb",
    "outputId": "7d5cb44f-e1b9-4c92-a623-295cca353a3f"
   },
   "outputs": [
    {
     "data": {
      "text/plain": [
       "HeartDisease\n",
       "1    15\n",
       "0     1\n",
       "dtype: int64"
      ]
     },
     "execution_count": 22,
     "metadata": {},
     "output_type": "execute_result"
    }
   ],
   "source": [
    "# Dealing with outliers (Oldpeak)\n",
    "q1 = df['Oldpeak'].quantile(0.25)\n",
    "q3 = df['Oldpeak'].quantile(0.75)\n",
    "iqr = q3-q1\n",
    "Lower_tail = q1 - 1.5 * iqr\n",
    "Upper_tail = q3 + 1.5 * iqr\n",
    "\n",
    "u = df[(df['Oldpeak'] >= Upper_tail) | (df['Oldpeak'] <= Lower_tail)]  # | means \"or\"\n",
    "u = pd.DataFrame(u)\n",
    "u.value_counts(df['HeartDisease'])"
   ]
  },
  {
   "cell_type": "code",
   "execution_count": 23,
   "metadata": {
    "id": "oU86-xAQqCE-"
   },
   "outputs": [],
   "source": [
    "x = df.drop('HeartDisease', axis = 1)\n",
    "y = df['HeartDisease']"
   ]
  },
  {
   "cell_type": "code",
   "execution_count": 24,
   "metadata": {
    "colab": {
     "base_uri": "https://localhost:8080/"
    },
    "id": "CxfZgR8OqSBv",
    "outputId": "9d4e7773-f89f-4266-9f23-88e23318621f"
   },
   "outputs": [
    {
     "name": "stdout",
     "output_type": "stream",
     "text": [
      "     Age  Sex  ChestPainType  RestingBP  Cholesterol  FastingBS  RestingECG  \\\n",
      "0     40    1              1        140          289          0           1   \n",
      "1     49    0              2        160          180          0           1   \n",
      "2     37    1              1        130          283          0           2   \n",
      "3     48    0              0        138          214          0           1   \n",
      "4     54    1              2        150          195          0           1   \n",
      "..   ...  ...            ...        ...          ...        ...         ...   \n",
      "913   45    1              3        110          264          0           1   \n",
      "914   68    1              0        144          193          1           1   \n",
      "915   57    1              0        130          131          0           1   \n",
      "916   57    0              1        130          236          0           0   \n",
      "917   38    1              2        138          175          0           1   \n",
      "\n",
      "     MaxHR  ExerciseAngina  Oldpeak  ST_Slope  \n",
      "0      172               0      0.0         2  \n",
      "1      156               0      1.0         1  \n",
      "2       98               0      0.0         2  \n",
      "3      108               1      1.5         1  \n",
      "4      122               0      0.0         2  \n",
      "..     ...             ...      ...       ...  \n",
      "913    132               0      1.2         1  \n",
      "914    141               0      3.4         1  \n",
      "915    115               1      1.2         1  \n",
      "916    174               0      0.0         1  \n",
      "917    173               0      0.0         2  \n",
      "\n",
      "[917 rows x 11 columns]\n"
     ]
    }
   ],
   "source": [
    "print(x)\n"
   ]
  },
  {
   "cell_type": "code",
   "execution_count": 25,
   "metadata": {
    "colab": {
     "base_uri": "https://localhost:8080/"
    },
    "id": "wDrqBvgJqV5X",
    "outputId": "28c8f655-df0f-4e2a-c7d6-6f89eaa078ab"
   },
   "outputs": [
    {
     "name": "stdout",
     "output_type": "stream",
     "text": [
      "0      0\n",
      "1      1\n",
      "2      0\n",
      "3      1\n",
      "4      0\n",
      "      ..\n",
      "913    1\n",
      "914    1\n",
      "915    1\n",
      "916    1\n",
      "917    0\n",
      "Name: HeartDisease, Length: 917, dtype: int64\n"
     ]
    }
   ],
   "source": [
    "print(y)"
   ]
  },
  {
   "cell_type": "code",
   "execution_count": 26,
   "metadata": {
    "id": "CqkQSRE4qZk_"
   },
   "outputs": [],
   "source": [
    "x_train, x_test, y_train, y_test = train_test_split(x,y,test_size = 0.2, stratify= y, random_state = 2)"
   ]
  },
  {
   "cell_type": "code",
   "execution_count": 27,
   "metadata": {
    "colab": {
     "base_uri": "https://localhost:8080/"
    },
    "id": "V71Dum_zquYP",
    "outputId": "3a788249-f139-4ca0-b8cd-0a3fe5d34cf7"
   },
   "outputs": [
    {
     "name": "stdout",
     "output_type": "stream",
     "text": [
      "(733, 11)\n",
      "(184, 11)\n"
     ]
    }
   ],
   "source": [
    "print(x_train.shape)\n",
    "print(x_test.shape)"
   ]
  },
  {
   "cell_type": "markdown",
   "metadata": {
    "id": "Hzb8EIzD4Asj"
   },
   "source": [
    "## **Building Logistic Regression Model**\n",
    "\n",
    "---\n",
    "\n"
   ]
  },
  {
   "cell_type": "code",
   "execution_count": 28,
   "metadata": {
    "id": "7WImf3pSvPAj"
   },
   "outputs": [],
   "source": [
    "# model = LogisticRegression(random_state = 0, max_iter = 1000).fit(x_train, y_train)\n",
    "# y_pred = model.predict(x_test)\n",
    "# x_train_pred = model.predict(x_train)\n",
    "# training_data_accuracy = accuracy_score(x_train_pred, y_train)\n",
    "# x_test_pred = model.predict(x_test)\n",
    "# testing_data_accuracy = accuracy_score(x_test_pred, y_test)"
   ]
  },
  {
   "cell_type": "code",
   "execution_count": 29,
   "metadata": {
    "id": "-R76euSnvaWK"
   },
   "outputs": [],
   "source": [
    "# print(\"Accuracy of training data: \",training_data_accuracy * 100)\n",
    "# print(\"Accuracy of testing data: \",testing_data_accuracy * 100)"
   ]
  },
  {
   "cell_type": "markdown",
   "metadata": {
    "id": "Ya4PmnI24InS"
   },
   "source": [
    "## **Building SVM Model**\n",
    "\n",
    "---\n",
    "\n"
   ]
  },
  {
   "cell_type": "code",
   "execution_count": 30,
   "metadata": {
    "id": "8Rue_Ocm4R96"
   },
   "outputs": [],
   "source": [
    "# classifier = svm.SVC(kernel= 'linear')\n",
    "# classifier.fit(x_train, y_train)\n",
    "# x_train_pred2 = classifier.predict(x_train)\n",
    "# training_data_accuracy = accuracy_score(x_train_pred2, y_train)\n",
    "# x_test_pred2 = classifier.predict(x_test)\n",
    "# testing_data_accuracy = accuracy_score(x_test_pred2, y_test)"
   ]
  },
  {
   "cell_type": "code",
   "execution_count": 31,
   "metadata": {
    "id": "kq6p355vuy4Y"
   },
   "outputs": [],
   "source": [
    "# print(\"Accuracy of training data: \",training_data_accuracy * 100)\n",
    "# print(\"Accuracy of testing data: \",testing_data_accuracy * 100)"
   ]
  },
  {
   "cell_type": "markdown",
   "metadata": {
    "id": "H6MJlCFGcF3M"
   },
   "source": [
    "## **k-Nearest Neighbour**"
   ]
  },
  {
   "cell_type": "code",
   "execution_count": 32,
   "metadata": {
    "id": "yrCkAaVecRZl"
   },
   "outputs": [],
   "source": [
    "# from sklearn.neighbors import KNeighborsClassifier\n",
    "\n",
    "# knn = KNeighborsClassifier(n_neighbors=4)\n",
    "# knn = knn.fit(x_train, y_train)\n",
    "# y_pred = knn.predict(x_test)\n",
    "# x_train_pred3 = knn.predict(x_train)\n",
    "# training_data_accuracy = accuracy_score(x_train_pred3, y_train)\n",
    "# x_test_pred3 = knn.predict(x_test)\n",
    "# testing_data_accuracy = accuracy_score(x_test_pred3, y_test)"
   ]
  },
  {
   "cell_type": "code",
   "execution_count": 33,
   "metadata": {
    "id": "tZVp2iqiv-pA"
   },
   "outputs": [],
   "source": [
    "# print(\"Accuracy of training data: \",training_data_accuracy * 100)\n",
    "# print(\"Accuracy of testing data: \",testing_data_accuracy * 100)"
   ]
  },
  {
   "cell_type": "markdown",
   "metadata": {
    "id": "mWHzur3iqQrg"
   },
   "source": [
    "### **Decision Tree**"
   ]
  },
  {
   "cell_type": "code",
   "execution_count": 34,
   "metadata": {
    "id": "snzHMWuzqUJi"
   },
   "outputs": [],
   "source": [
    "# from sklearn.tree import DecisionTreeClassifier\n",
    "\n",
    "# dt = DecisionTreeClassifier(random_state=42)\n",
    "# dt = dt.fit(x_train, y_train)\n",
    "# y_pred = dt.predict(x_test)\n",
    "\n",
    "# x_train_pred4 = dt.predict(x_train)\n",
    "# training_data_accuracy = accuracy_score(x_train_pred4, y_train)\n",
    "# x_test_pred4 = dt.predict(x_test)\n",
    "# testing_data_accuracy = accuracy_score(x_test_pred4, y_test)"
   ]
  },
  {
   "cell_type": "code",
   "execution_count": 35,
   "metadata": {
    "id": "k4PJSLhbwZhr"
   },
   "outputs": [],
   "source": [
    "# # print(\"Accuracy of training data: \",training_data_accuracy * 100)\n",
    "# print(\"Accuracy of testing data: \",testing_data_accuracy * 100)"
   ]
  },
  {
   "cell_type": "markdown",
   "metadata": {
    "id": "pVxHKwdbqf8B"
   },
   "source": [
    "## **Random Forest**"
   ]
  },
  {
   "cell_type": "code",
   "execution_count": 36,
   "metadata": {
    "id": "A-djNw4Qqjrq"
   },
   "outputs": [],
   "source": [
    "from sklearn.ensemble import RandomForestClassifier\n",
    "\n",
    "# First model\n",
    "RF = RandomForestClassifier(random_state=42, n_estimators=100)\n",
    "                            \n",
    "RF = RF.fit(x_train, y_train)\n",
    "y_pred = RF.predict(x_test)\n",
    "\n",
    "x_train_pred5 = RF.predict(x_train)\n",
    "training_data_accuracy = accuracy_score(x_train_pred5, y_train)\n",
    "x_test_pred5 = RF.predict(x_test)\n",
    "testing_data_accuracy = accuracy_score(x_test_pred5, y_test)"
   ]
  },
  {
   "cell_type": "code",
   "execution_count": 37,
   "metadata": {
    "colab": {
     "base_uri": "https://localhost:8080/"
    },
    "id": "2DKY5f_yxjjL",
    "outputId": "d2001bec-f123-478c-9f8c-a86b899dd800"
   },
   "outputs": [
    {
     "name": "stdout",
     "output_type": "stream",
     "text": [
      "Accuracy of testing data:  90.21739130434783\n"
     ]
    }
   ],
   "source": [
    "# print(\"Accuracy of training data: \",training_data_accuracy * 100)\n",
    "print(\"Accuracy of testing data: \",testing_data_accuracy * 100)"
   ]
  },
  {
   "cell_type": "markdown",
   "metadata": {
    "id": "EBsAHjy0q-aN"
   },
   "source": [
    "## **CatBoost**"
   ]
  },
  {
   "cell_type": "code",
   "execution_count": 38,
   "metadata": {
    "id": "nF8X0CgxL4jo"
   },
   "outputs": [],
   "source": [
    "# !pip install catboost"
   ]
  },
  {
   "cell_type": "code",
   "execution_count": 39,
   "metadata": {
    "id": "vfjtEoD3q9rU"
   },
   "outputs": [],
   "source": [
    "# from catboost import CatBoostClassifier\n",
    "\n",
    "# cat = CatBoostClassifier(iterations=80,\n",
    "#                            learning_rate=1,\n",
    "#                            depth=2)\n",
    "\n",
    "# # Fit model\n",
    "\n",
    "# cat.fit(x_train, y_train)\n",
    "# # Get predicted classes\n",
    "# preds_class = cat.predict(x_test)\n",
    "# x_train_pred = cat.predict(x_train)\n",
    "# training_data_accuracy = accuracy_score(x_train_pred, y_train)\n",
    "# x_test_pred = cat.predict(x_test)\n",
    "# testing_data_accuracy = accuracy_score(x_test_pred, y_test)\n",
    "\n",
    "# # print(model.get_best_iteration())\n",
    "# # print(\"Accuracy of training data: \",training_data_accuracy * 100)\n",
    "# print(\"Accuracy of testing data: \",testing_data_accuracy * 100)"
   ]
  },
  {
   "cell_type": "code",
   "execution_count": 40,
   "metadata": {
    "id": "ZRNR86u01AZ1"
   },
   "outputs": [],
   "source": [
    "# models_accuracy_scores = {}\n",
    "# models_accuracy_scores[\"Logistic Regression\"] = [f1_score(y_test,model.predict(x_test),average=\"weighted\"),\n",
    "#                                                  model.score(x_test,y_test),\n",
    "#                                                  recall_score(y_test,model.predict(x_test), average = 'binary')]\n",
    "# models_accuracy_scores[\"SVM\"] = [f1_score(y_test,classifier.predict(x_test),average=\"weighted\"),\n",
    "#                                                  classifier.score(x_test,y_test),\n",
    "#                                                  recall_score(y_test,classifier.predict(x_test), average = 'binary')]\n",
    "# models_accuracy_scores[\"K-Nearest Neighbors\"] = [f1_score(y_test,knn.predict(x_test),average=\"weighted\"),\n",
    "#                                                  knn.score(x_test,y_test),\n",
    "#                                                  recall_score(y_test,knn.predict(x_test), average = 'binary')]\n",
    "# models_accuracy_scores[\"Random Forest\"] = [f1_score(y_test,RF.predict(x_test),average=\"weighted\"),\n",
    "#                                                  RF.score(x_test,y_test),\n",
    "#                                                  recall_score(y_test,RF.predict(x_test), average = 'binary')]\n",
    "# models_accuracy_scores[\"Decision Tree\"] = [f1_score(y_test,dt.predict(x_test),average=\"weighted\"),\n",
    "#                                                  dt.score(x_test,y_test),\n",
    "#                                                  recall_score(y_test,dt.predict(x_test), average = 'binary')]\n",
    "# models_accuracy_scores[\"CatBoost\"] = [f1_score(y_test,cat.predict(x_test),average=\"weighted\"),\n",
    "#                                                  cat.score(x_test,y_test),\n",
    "#                                                  recall_score(y_test,cat.predict(x_test), average = 'binary')]"
   ]
  },
  {
   "cell_type": "code",
   "execution_count": 41,
   "metadata": {
    "id": "vR-hBgTw3oZn"
   },
   "outputs": [],
   "source": [
    "# names = [\"F1-Score\",\"Accuracy\",\"Recall\"]\n",
    "# df_scores = pd.DataFrame(models_accuracy_scores.values(),columns = names,index=models_accuracy_scores.keys())\n",
    "    \n",
    "# for names in df_scores.columns:\n",
    "#     fig = plt.figure(figsize = (10, 5))\n",
    "#     ax = sns.barplot(y=df_scores[names],x=df_scores.index)\n",
    "#     ax.set_xticklabels(ax.get_xticklabels(), rotation=40, ha=\"right\") \n",
    "#     plt.xlabel(\"Methods\")\n",
    "#     plt.ylabel(names)\n",
    "#     plt.title(\"Best Perfomed Method\")\n",
    "#     plt.show()"
   ]
  },
  {
   "cell_type": "code",
   "execution_count": 42,
   "metadata": {
    "id": "fvLYzCfY5X1D"
   },
   "outputs": [],
   "source": [
    "# df_scores"
   ]
  },
  {
   "cell_type": "markdown",
   "metadata": {
    "id": "bVvUKPK19zYl"
   },
   "source": [
    "## Review Model"
   ]
  },
  {
   "cell_type": "code",
   "execution_count": 43,
   "metadata": {
    "colab": {
     "base_uri": "https://localhost:8080/"
    },
    "id": "BeNpTw1h86bN",
    "outputId": "6a20a97b-02f7-44c5-ea27-ab92244768e9"
   },
   "outputs": [
    {
     "name": "stdout",
     "output_type": "stream",
     "text": [
      "Enter your age : 19\n",
      "Enter your gender : 1\n",
      "Do you have cpt ? ATA, NAP, ASY, TA1\n",
      "Do you have any restingbp ? 0 or 1 : 1\n",
      "High Cholestrol: 1 or 0 1\n",
      "High fastingBS: 1 or 0 1\n",
      "High restingECG: 1 or 0 1\n",
      "max hr: 1 or 0 1\n",
      "Exercise angina: 1 or 0 1\n",
      "old peak: 1 or 0 1\n",
      "ST_slope : up or down1\n",
      "Person has chances of having heart disease\n"
     ]
    },
    {
     "name": "stderr",
     "output_type": "stream",
     "text": [
      "C:\\Users\\kaif4\\anaconda3\\lib\\site-packages\\sklearn\\base.py:439: UserWarning: X does not have valid feature names, but RandomForestClassifier was fitted with feature names\n",
      "  warnings.warn(\n"
     ]
    }
   ],
   "source": [
    "def prediction(a,g,cpt,restingbp,c,f,restingECG,m,ea,op,st):\n",
    "    # a = int(a)\n",
    "    a = ((a-0.08)/(82-0.08))\n",
    "    if cpt == \"ATA\":\n",
    "        cpt = 1\n",
    "    if cpt == \"NAP\":\n",
    "        cpt = 2\n",
    "    if cpt == \"ASY\":\n",
    "        cpt = 3\n",
    "    if cpt == \"TA\":\n",
    "        cpt = 4\n",
    "\n",
    "    if g == \"male\":\n",
    "        g = 1\n",
    "    elif g == \"female\":\n",
    "         g = 0\n",
    "    else:\n",
    "         g = 2\n",
    "\n",
    "    if st == \"up\":\n",
    "        st = 0\n",
    "    else:\n",
    "        st = 1\n",
    "\n",
    "\n",
    "    pred = RF.predict([[a,g,cpt,restingbp,c,f,restingECG,m,ea,op,st]])\n",
    "    return pred[0]\n",
    "\n",
    "\n",
    "#INPUT - FROM - USER\n",
    "a = int(input(\"Enter your age : \"))\n",
    "\n",
    "g = input(\"Enter your gender : \")\n",
    "g = g.lower()\n",
    "\n",
    "\n",
    "cpt = input(\"Do you have cpt ? ATA, NAP, ASY, TA\")\n",
    "cpt = cpt.upper()\n",
    "\n",
    "restingbp = int(input(\"Do you have any restingbp ? 0 or 1 : \"))\n",
    "# restingbp = ht.lower()\n",
    "\n",
    "c = int(input(\"High Cholestrol: 1 or 0 \"))\n",
    "# m = m.lower()\n",
    "\n",
    "f = int(input(\"High fastingBS: 1 or 0 \"))\n",
    "\n",
    "restingECG = int(input(\"High restingECG: 1 or 0 \"))\n",
    "# r = r.lower()\n",
    "m = int(input(\"max hr: 1 or 0 \"))\n",
    "\n",
    "ea = int(input(\"Exercise angina: 1 or 0 \"))\n",
    "\n",
    "op = int(input(\"old peak: 1 or 0 \"))\n",
    "# gl = gl.lower()\n",
    "\n",
    "st = input(\"ST_slope : up or down\")\n",
    "st = st.lower()\n",
    "\n",
    "#call prediction function\n",
    "op = prediction(a,g,cpt,restingbp,c,f,restingECG,m,ea,op,st)\n",
    "if op == 1:\n",
    "    print(\"Person has chances of having heart disease\")\n",
    "else:\n",
    "    print(\"Patient has no risk of heart disease\")\n"
   ]
  },
  {
   "cell_type": "code",
   "execution_count": 48,
   "metadata": {},
   "outputs": [
    {
     "name": "stdout",
     "output_type": "stream",
     "text": [
      "Note: you may need to restart the kernel to use updated packages.\n"
     ]
    },
    {
     "name": "stderr",
     "output_type": "stream",
     "text": [
      "ERROR: Could not find a version that satisfies the requirement pickle (from versions: none)\n",
      "ERROR: No matching distribution found for pickle\n"
     ]
    }
   ],
   "source": [
    "pip install pickle"
   ]
  },
  {
   "cell_type": "code",
   "execution_count": 50,
   "metadata": {
    "colab": {
     "base_uri": "https://localhost:8080/"
    },
    "id": "-5RAPcIk953W",
    "outputId": "1d0aee9d-5649-4ab7-fbe2-b42f489061fe"
   },
   "outputs": [],
   "source": [
    "import pickle\n",
    "pickle.dump(RF,open('model.pkl','wb'))"
   ]
  }
 ],
 "metadata": {
  "colab": {
   "provenance": []
  },
  "kernelspec": {
   "display_name": "Python 3 (ipykernel)",
   "language": "python",
   "name": "python3"
  },
  "language_info": {
   "codemirror_mode": {
    "name": "ipython",
    "version": 3
   },
   "file_extension": ".py",
   "mimetype": "text/x-python",
   "name": "python",
   "nbconvert_exporter": "python",
   "pygments_lexer": "ipython3",
   "version": "3.9.13"
  }
 },
 "nbformat": 4,
 "nbformat_minor": 1
}
