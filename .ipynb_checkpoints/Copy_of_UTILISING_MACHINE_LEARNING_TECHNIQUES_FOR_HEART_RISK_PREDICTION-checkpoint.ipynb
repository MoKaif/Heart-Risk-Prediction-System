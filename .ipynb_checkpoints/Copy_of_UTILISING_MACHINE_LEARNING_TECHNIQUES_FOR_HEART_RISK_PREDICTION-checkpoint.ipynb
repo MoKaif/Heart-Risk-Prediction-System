{
 "cells": [
  {
   "cell_type": "markdown",
   "metadata": {
    "id": "2ISunTxk1AIC"
   },
   "source": [
    "We have a data which classified if patients have heart disease or not according to features in it. We will try to use this data to create a model which tries predict if a patient has this disease or not. We will use Classification algorithms.\n",
    "\n",
    "\n",
    "*   Logistic Regression\n",
    "*   Support Vector Machine\n",
    "* K-Nearest Neighbor\n",
    "* Decision Trees\n",
    "* Random Forest\n",
    "* CatBoost\n"
   ]
  },
  {
   "cell_type": "code",
   "execution_count": null,
   "metadata": {},
   "outputs": [],
   "source": [
    "pip install numpy pandas\n"
   ]
  },
  {
   "cell_type": "code",
   "execution_count": 1,
   "metadata": {
    "id": "2P4tAy05kK-p"
   },
   "outputs": [
    {
     "ename": "ModuleNotFoundError",
     "evalue": "No module named 'numpy'",
     "output_type": "error",
     "traceback": [
      "\u001b[1;31m---------------------------------------------------------------------------\u001b[0m",
      "\u001b[1;31mModuleNotFoundError\u001b[0m                       Traceback (most recent call last)",
      "Cell \u001b[1;32mIn[1], line 3\u001b[0m\n\u001b[0;32m      1\u001b[0m \u001b[38;5;28;01mimport\u001b[39;00m \u001b[38;5;21;01mwarnings\u001b[39;00m\n\u001b[0;32m      2\u001b[0m warnings\u001b[38;5;241m.\u001b[39mfilterwarnings(\u001b[38;5;124m'\u001b[39m\u001b[38;5;124mignore\u001b[39m\u001b[38;5;124m'\u001b[39m)\n\u001b[1;32m----> 3\u001b[0m \u001b[38;5;28;01mimport\u001b[39;00m \u001b[38;5;21;01mnumpy\u001b[39;00m \u001b[38;5;28;01mas\u001b[39;00m \u001b[38;5;21;01mnp\u001b[39;00m\n\u001b[0;32m      4\u001b[0m \u001b[38;5;28;01mimport\u001b[39;00m \u001b[38;5;21;01mpandas\u001b[39;00m \u001b[38;5;28;01mas\u001b[39;00m \u001b[38;5;21;01mpd\u001b[39;00m\n\u001b[0;32m      5\u001b[0m \u001b[38;5;28;01mimport\u001b[39;00m \u001b[38;5;21;01mmatplotlib\u001b[39;00m\u001b[38;5;21;01m.\u001b[39;00m\u001b[38;5;21;01mpyplot\u001b[39;00m \u001b[38;5;28;01mas\u001b[39;00m \u001b[38;5;21;01mplt\u001b[39;00m\n",
      "\u001b[1;31mModuleNotFoundError\u001b[0m: No module named 'numpy'"
     ]
    }
   ],
   "source": [
    "# import warnings\n",
    "# warnings.filterwarnings('ignore')\n",
    "import numpy as np\n",
    "import pandas as pd\n",
    "import matplotlib.pyplot as plt\n",
    "import seaborn as sns\n",
    "from sklearn.model_selection import train_test_split\n",
    "from sklearn.linear_model import LogisticRegression\n",
    "from sklearn import svm\n",
    "from sklearn.preprocessing import LabelEncoder\n",
    "\n",
    "#For Model Evaluation\n",
    "from sklearn.metrics import precision_recall_fscore_support as score\n",
    "from sklearn.metrics import confusion_matrix, accuracy_score, roc_auc_score,f1_score,classification_report,recall_score\n",
    "from sklearn.preprocessing import label_binarize"
   ]
  },
  {
   "cell_type": "markdown",
   "metadata": {
    "id": "RO0zTq561XTB"
   },
   "source": [
    "### **Read Data**\n",
    "\n",
    "---\n",
    "\n"
   ]
  },
  {
   "cell_type": "code",
   "execution_count": null,
   "metadata": {
    "colab": {
     "base_uri": "https://localhost:8080/"
    },
    "id": "RugU1AWGe1rW",
    "outputId": "42d787f4-9210-4731-b55d-a0519aebdc7d"
   },
   "outputs": [],
   "source": [
    "from google.colab import drive\n",
    "drive.mount('/content/drive')"
   ]
  },
  {
   "cell_type": "code",
   "execution_count": null,
   "metadata": {
    "id": "ufIBcJ3rlrZ9"
   },
   "outputs": [],
   "source": [
    "df = pd.read_csv('/content/drive/MyDrive/heart.csv')"
   ]
  },
  {
   "cell_type": "code",
   "execution_count": null,
   "metadata": {
    "colab": {
     "base_uri": "https://localhost:8080/",
     "height": 270
    },
    "id": "U7-P2ag9l1QE",
    "outputId": "5ccb7319-0193-4e18-9b88-9de0a6e22d08"
   },
   "outputs": [],
   "source": [
    "df.head()"
   ]
  },
  {
   "cell_type": "code",
   "execution_count": null,
   "metadata": {
    "colab": {
     "base_uri": "https://localhost:8080/"
    },
    "id": "IjwrMl6Sl7_E",
    "outputId": "591e2b78-3646-418c-9843-c32558a20683"
   },
   "outputs": [],
   "source": [
    "df.shape"
   ]
  },
  {
   "cell_type": "code",
   "execution_count": null,
   "metadata": {
    "colab": {
     "base_uri": "https://localhost:8080/"
    },
    "id": "58sD6t4dl_5s",
    "outputId": "f5136a4e-bf8a-4c56-febc-6f6890a89f42"
   },
   "outputs": [],
   "source": [
    "df.info()"
   ]
  },
  {
   "cell_type": "markdown",
   "metadata": {
    "id": "NneqVGYd1krK"
   },
   "source": [
    "Data contains;\n",
    "\n",
    "* Age - age in years\n",
    "* Sex - (1 = male; 0 = female)\n",
    "* ChestPainType - chest pain type\n",
    "* RestingBP - resting blood pressure (in mm Hg on admission to the hospital)\n",
    "* Cholesterol - serum cholestoral in mg/dl\n",
    "* FastingBS  - (fasting blood sugar > 120 mg/dl) (1 = true; 0 = false)\n",
    "* RestingECG  - resting electrocardiographic results\n",
    "* MaxHR - maximum heart rate achieved\n",
    "* ExerciseAngina - exercise induced angina (1 = yes; 0 = no)\n",
    "* Oldpeak - ST depression induced by exercise relative to rest\n",
    "* ST_Slope - the slope of the peak exercise ST segment\n",
    "* HeartDisease - have disease or not (1=yes, 0=no)"
   ]
  },
  {
   "cell_type": "code",
   "execution_count": null,
   "metadata": {
    "colab": {
     "base_uri": "https://localhost:8080/"
    },
    "id": "z1teaQKpmJFk",
    "outputId": "b311621b-3e30-4811-c25f-1132f3067388"
   },
   "outputs": [],
   "source": [
    "df.columns"
   ]
  },
  {
   "cell_type": "code",
   "execution_count": null,
   "metadata": {
    "id": "IOwSUDyJmPid"
   },
   "outputs": [],
   "source": [
    "en = LabelEncoder()"
   ]
  },
  {
   "cell_type": "code",
   "execution_count": null,
   "metadata": {
    "id": "tR1Ny9bat2pH"
   },
   "outputs": [],
   "source": [
    "# df.drop(columns=['ChestPainType','RestingECG','ST_Slope'])\n",
    "cols = ['Sex','ChestPainType','RestingECG','ExerciseAngina','ST_Slope']\n",
    "for col in cols:\n",
    "    df[col] = en.fit_transform(df[col])"
   ]
  },
  {
   "cell_type": "code",
   "execution_count": null,
   "metadata": {
    "colab": {
     "base_uri": "https://localhost:8080/",
     "height": 364
    },
    "id": "6VcGT5Cxnmp1",
    "outputId": "52ec720c-8178-40af-dc98-0f3dbe454b36"
   },
   "outputs": [],
   "source": [
    "df.describe()"
   ]
  },
  {
   "cell_type": "code",
   "execution_count": null,
   "metadata": {
    "colab": {
     "base_uri": "https://localhost:8080/",
     "height": 207
    },
    "id": "wpSGD04GpnJu",
    "outputId": "d20be174-c7ac-4984-9731-60883a2ea455"
   },
   "outputs": [],
   "source": [
    "df.groupby('HeartDisease').mean()"
   ]
  },
  {
   "cell_type": "code",
   "execution_count": null,
   "metadata": {
    "colab": {
     "base_uri": "https://localhost:8080/",
     "height": 270
    },
    "id": "3d6Yeg2CukIA",
    "outputId": "9d128026-f239-4f9b-fb5b-9a8f72362228"
   },
   "outputs": [],
   "source": [
    "df.head()"
   ]
  },
  {
   "cell_type": "markdown",
   "metadata": {
    "id": "Ivis4EUqnFP6"
   },
   "source": [
    "## **Data Preprocessing**"
   ]
  },
  {
   "cell_type": "code",
   "execution_count": null,
   "metadata": {
    "colab": {
     "base_uri": "https://localhost:8080/"
    },
    "id": "BjscZeVel12R",
    "outputId": "c877ef20-bba1-4c40-df79-d8fb9cbd16af"
   },
   "outputs": [],
   "source": [
    "# RestingBP\n",
    "# RestingBP represents the blood pressure of the patient. It is impossible to have values equal to 0; that's why I'll remove the outlier with value 0.\n",
    "df = df.drop(df[(df['RestingBP'] == 0)].index)\n",
    "# df.head()\n",
    "# Dealing with the outliers (RestingBP)\n",
    "q1 = df['RestingBP'].quantile(0.25)\n",
    "q3 = df['RestingBP'].quantile(0.75)\n",
    "iqr = q3-q1\n",
    "Lower_tail = q1 - 1.5 * iqr\n",
    "Upper_tail = q3 + 1.5 * iqr\n",
    "\n",
    "u = df[(df['RestingBP'] >= Upper_tail) | (df['RestingBP'] <= Lower_tail)]  # | means \"or\"\n",
    "u = pd.DataFrame(u)\n",
    "print('Outliers on RestingBP:')\n",
    "u.value_counts(u['HeartDisease'])\n"
   ]
  },
  {
   "cell_type": "code",
   "execution_count": null,
   "metadata": {
    "id": "ZSMQ-EgGor8-"
   },
   "outputs": [],
   "source": [
    "med = np.median(df['RestingBP'])\n",
    "for i in df['RestingBP']:\n",
    "    if i > Upper_tail or i < Lower_tail:\n",
    "            df['RestingBP'] = df['RestingBP'].replace(i, med)"
   ]
  },
  {
   "cell_type": "code",
   "execution_count": null,
   "metadata": {
    "colab": {
     "base_uri": "https://localhost:8080/"
    },
    "id": "_JL1-qcyoAen",
    "outputId": "49be4183-7c3a-49e9-9335-9a1eb4558cfc"
   },
   "outputs": [],
   "source": [
    "# Dealing with outliers (Cholesterol)\n",
    "q1 = df['Cholesterol'].quantile(0.25)\n",
    "q3 = df['Cholesterol'].quantile(0.75)\n",
    "iqr = q3-q1\n",
    "Lower_tail = q1 - 1.5 * iqr\n",
    "Upper_tail = q3 + 1.5 * iqr\n",
    "\n",
    "u = df[(df['Cholesterol'] >= Upper_tail) | (df['Cholesterol'] <= Lower_tail)]  # | means \"or\"\n",
    "u = pd.DataFrame(u)\n",
    "print('Outliers on Cholesterol:')\n",
    "u.value_counts(df['HeartDisease'])"
   ]
  },
  {
   "cell_type": "code",
   "execution_count": null,
   "metadata": {
    "id": "r2PYENfrpP2Z"
   },
   "outputs": [],
   "source": [
    "# Median imputation (Cholesterol) just on upper tail\n",
    "med = np.median(df['Cholesterol'])\n",
    "for i in df['Cholesterol']:\n",
    "    if i > Upper_tail:\n",
    "            df['Cholesterol'] = df['Cholesterol'].replace(i, med)"
   ]
  },
  {
   "cell_type": "code",
   "execution_count": null,
   "metadata": {
    "colab": {
     "base_uri": "https://localhost:8080/"
    },
    "id": "gFUVIWRopebb",
    "outputId": "7d5cb44f-e1b9-4c92-a623-295cca353a3f"
   },
   "outputs": [],
   "source": [
    "# Dealing with outliers (Oldpeak)\n",
    "q1 = df['Oldpeak'].quantile(0.25)\n",
    "q3 = df['Oldpeak'].quantile(0.75)\n",
    "iqr = q3-q1\n",
    "Lower_tail = q1 - 1.5 * iqr\n",
    "Upper_tail = q3 + 1.5 * iqr\n",
    "\n",
    "u = df[(df['Oldpeak'] >= Upper_tail) | (df['Oldpeak'] <= Lower_tail)]  # | means \"or\"\n",
    "u = pd.DataFrame(u)\n",
    "u.value_counts(df['HeartDisease'])"
   ]
  },
  {
   "cell_type": "code",
   "execution_count": null,
   "metadata": {
    "id": "oU86-xAQqCE-"
   },
   "outputs": [],
   "source": [
    "x = df.drop('HeartDisease', axis = 1)\n",
    "y = df['HeartDisease']"
   ]
  },
  {
   "cell_type": "code",
   "execution_count": null,
   "metadata": {
    "colab": {
     "base_uri": "https://localhost:8080/"
    },
    "id": "CxfZgR8OqSBv",
    "outputId": "9d4e7773-f89f-4266-9f23-88e23318621f"
   },
   "outputs": [],
   "source": [
    "print(x)\n"
   ]
  },
  {
   "cell_type": "code",
   "execution_count": null,
   "metadata": {
    "colab": {
     "base_uri": "https://localhost:8080/"
    },
    "id": "wDrqBvgJqV5X",
    "outputId": "28c8f655-df0f-4e2a-c7d6-6f89eaa078ab"
   },
   "outputs": [],
   "source": [
    "print(y)"
   ]
  },
  {
   "cell_type": "code",
   "execution_count": null,
   "metadata": {
    "id": "CqkQSRE4qZk_"
   },
   "outputs": [],
   "source": [
    "x_train, x_test, y_train, y_test = train_test_split(x,y,test_size = 0.2, stratify= y, random_state = 2)"
   ]
  },
  {
   "cell_type": "code",
   "execution_count": null,
   "metadata": {
    "colab": {
     "base_uri": "https://localhost:8080/"
    },
    "id": "V71Dum_zquYP",
    "outputId": "3a788249-f139-4ca0-b8cd-0a3fe5d34cf7"
   },
   "outputs": [],
   "source": [
    "print(x_train.shape)\n",
    "print(x_test.shape)"
   ]
  },
  {
   "cell_type": "markdown",
   "metadata": {
    "id": "Hzb8EIzD4Asj"
   },
   "source": [
    "## **Building Logistic Regression Model**\n",
    "\n",
    "---\n",
    "\n"
   ]
  },
  {
   "cell_type": "code",
   "execution_count": null,
   "metadata": {
    "id": "7WImf3pSvPAj"
   },
   "outputs": [],
   "source": [
    "# model = LogisticRegression(random_state = 0, max_iter = 1000).fit(x_train, y_train)\n",
    "# y_pred = model.predict(x_test)\n",
    "# x_train_pred = model.predict(x_train)\n",
    "# training_data_accuracy = accuracy_score(x_train_pred, y_train)\n",
    "# x_test_pred = model.predict(x_test)\n",
    "# testing_data_accuracy = accuracy_score(x_test_pred, y_test)"
   ]
  },
  {
   "cell_type": "code",
   "execution_count": null,
   "metadata": {
    "id": "-R76euSnvaWK"
   },
   "outputs": [],
   "source": [
    "# print(\"Accuracy of training data: \",training_data_accuracy * 100)\n",
    "# print(\"Accuracy of testing data: \",testing_data_accuracy * 100)"
   ]
  },
  {
   "cell_type": "markdown",
   "metadata": {
    "id": "Ya4PmnI24InS"
   },
   "source": [
    "## **Building SVM Model**\n",
    "\n",
    "---\n",
    "\n"
   ]
  },
  {
   "cell_type": "code",
   "execution_count": null,
   "metadata": {
    "id": "8Rue_Ocm4R96"
   },
   "outputs": [],
   "source": [
    "# classifier = svm.SVC(kernel= 'linear')\n",
    "# classifier.fit(x_train, y_train)\n",
    "# x_train_pred2 = classifier.predict(x_train)\n",
    "# training_data_accuracy = accuracy_score(x_train_pred2, y_train)\n",
    "# x_test_pred2 = classifier.predict(x_test)\n",
    "# testing_data_accuracy = accuracy_score(x_test_pred2, y_test)"
   ]
  },
  {
   "cell_type": "code",
   "execution_count": null,
   "metadata": {
    "id": "kq6p355vuy4Y"
   },
   "outputs": [],
   "source": [
    "# print(\"Accuracy of training data: \",training_data_accuracy * 100)\n",
    "# print(\"Accuracy of testing data: \",testing_data_accuracy * 100)"
   ]
  },
  {
   "cell_type": "markdown",
   "metadata": {
    "id": "H6MJlCFGcF3M"
   },
   "source": [
    "## **k-Nearest Neighbour**"
   ]
  },
  {
   "cell_type": "code",
   "execution_count": null,
   "metadata": {
    "id": "yrCkAaVecRZl"
   },
   "outputs": [],
   "source": [
    "# from sklearn.neighbors import KNeighborsClassifier\n",
    "\n",
    "# knn = KNeighborsClassifier(n_neighbors=4)\n",
    "# knn = knn.fit(x_train, y_train)\n",
    "# y_pred = knn.predict(x_test)\n",
    "# x_train_pred3 = knn.predict(x_train)\n",
    "# training_data_accuracy = accuracy_score(x_train_pred3, y_train)\n",
    "# x_test_pred3 = knn.predict(x_test)\n",
    "# testing_data_accuracy = accuracy_score(x_test_pred3, y_test)"
   ]
  },
  {
   "cell_type": "code",
   "execution_count": null,
   "metadata": {
    "id": "tZVp2iqiv-pA"
   },
   "outputs": [],
   "source": [
    "# print(\"Accuracy of training data: \",training_data_accuracy * 100)\n",
    "# print(\"Accuracy of testing data: \",testing_data_accuracy * 100)"
   ]
  },
  {
   "cell_type": "markdown",
   "metadata": {
    "id": "mWHzur3iqQrg"
   },
   "source": [
    "### **Decision Tree**"
   ]
  },
  {
   "cell_type": "code",
   "execution_count": null,
   "metadata": {
    "id": "snzHMWuzqUJi"
   },
   "outputs": [],
   "source": [
    "# from sklearn.tree import DecisionTreeClassifier\n",
    "\n",
    "# dt = DecisionTreeClassifier(random_state=42)\n",
    "# dt = dt.fit(x_train, y_train)\n",
    "# y_pred = dt.predict(x_test)\n",
    "\n",
    "# x_train_pred4 = dt.predict(x_train)\n",
    "# training_data_accuracy = accuracy_score(x_train_pred4, y_train)\n",
    "# x_test_pred4 = dt.predict(x_test)\n",
    "# testing_data_accuracy = accuracy_score(x_test_pred4, y_test)"
   ]
  },
  {
   "cell_type": "code",
   "execution_count": null,
   "metadata": {
    "id": "k4PJSLhbwZhr"
   },
   "outputs": [],
   "source": [
    "# # print(\"Accuracy of training data: \",training_data_accuracy * 100)\n",
    "# print(\"Accuracy of testing data: \",testing_data_accuracy * 100)"
   ]
  },
  {
   "cell_type": "markdown",
   "metadata": {
    "id": "pVxHKwdbqf8B"
   },
   "source": [
    "## **Random Forest**"
   ]
  },
  {
   "cell_type": "code",
   "execution_count": null,
   "metadata": {
    "id": "A-djNw4Qqjrq"
   },
   "outputs": [],
   "source": [
    "from sklearn.ensemble import RandomForestClassifier\n",
    "\n",
    "# First model\n",
    "RF = RandomForestClassifier(random_state=42, n_estimators=100)\n",
    "                            \n",
    "RF = RF.fit(x_train, y_train)\n",
    "y_pred = RF.predict(x_test)\n",
    "\n",
    "x_train_pred5 = RF.predict(x_train)\n",
    "training_data_accuracy = accuracy_score(x_train_pred5, y_train)\n",
    "x_test_pred5 = RF.predict(x_test)\n",
    "testing_data_accuracy = accuracy_score(x_test_pred5, y_test)"
   ]
  },
  {
   "cell_type": "code",
   "execution_count": null,
   "metadata": {
    "colab": {
     "base_uri": "https://localhost:8080/"
    },
    "id": "2DKY5f_yxjjL",
    "outputId": "d2001bec-f123-478c-9f8c-a86b899dd800"
   },
   "outputs": [],
   "source": [
    "# print(\"Accuracy of training data: \",training_data_accuracy * 100)\n",
    "print(\"Accuracy of testing data: \",testing_data_accuracy * 100)"
   ]
  },
  {
   "cell_type": "markdown",
   "metadata": {
    "id": "EBsAHjy0q-aN"
   },
   "source": [
    "## **CatBoost**"
   ]
  },
  {
   "cell_type": "code",
   "execution_count": null,
   "metadata": {
    "id": "nF8X0CgxL4jo"
   },
   "outputs": [],
   "source": [
    "# !pip install catboost"
   ]
  },
  {
   "cell_type": "code",
   "execution_count": null,
   "metadata": {
    "id": "vfjtEoD3q9rU"
   },
   "outputs": [],
   "source": [
    "# from catboost import CatBoostClassifier\n",
    "\n",
    "# cat = CatBoostClassifier(iterations=80,\n",
    "#                            learning_rate=1,\n",
    "#                            depth=2)\n",
    "\n",
    "# # Fit model\n",
    "\n",
    "# cat.fit(x_train, y_train)\n",
    "# # Get predicted classes\n",
    "# preds_class = cat.predict(x_test)\n",
    "# x_train_pred = cat.predict(x_train)\n",
    "# training_data_accuracy = accuracy_score(x_train_pred, y_train)\n",
    "# x_test_pred = cat.predict(x_test)\n",
    "# testing_data_accuracy = accuracy_score(x_test_pred, y_test)\n",
    "\n",
    "# # print(model.get_best_iteration())\n",
    "# # print(\"Accuracy of training data: \",training_data_accuracy * 100)\n",
    "# print(\"Accuracy of testing data: \",testing_data_accuracy * 100)"
   ]
  },
  {
   "cell_type": "code",
   "execution_count": null,
   "metadata": {
    "id": "ZRNR86u01AZ1"
   },
   "outputs": [],
   "source": [
    "# models_accuracy_scores = {}\n",
    "# models_accuracy_scores[\"Logistic Regression\"] = [f1_score(y_test,model.predict(x_test),average=\"weighted\"),\n",
    "#                                                  model.score(x_test,y_test),\n",
    "#                                                  recall_score(y_test,model.predict(x_test), average = 'binary')]\n",
    "# models_accuracy_scores[\"SVM\"] = [f1_score(y_test,classifier.predict(x_test),average=\"weighted\"),\n",
    "#                                                  classifier.score(x_test,y_test),\n",
    "#                                                  recall_score(y_test,classifier.predict(x_test), average = 'binary')]\n",
    "# models_accuracy_scores[\"K-Nearest Neighbors\"] = [f1_score(y_test,knn.predict(x_test),average=\"weighted\"),\n",
    "#                                                  knn.score(x_test,y_test),\n",
    "#                                                  recall_score(y_test,knn.predict(x_test), average = 'binary')]\n",
    "# models_accuracy_scores[\"Random Forest\"] = [f1_score(y_test,RF.predict(x_test),average=\"weighted\"),\n",
    "#                                                  RF.score(x_test,y_test),\n",
    "#                                                  recall_score(y_test,RF.predict(x_test), average = 'binary')]\n",
    "# models_accuracy_scores[\"Decision Tree\"] = [f1_score(y_test,dt.predict(x_test),average=\"weighted\"),\n",
    "#                                                  dt.score(x_test,y_test),\n",
    "#                                                  recall_score(y_test,dt.predict(x_test), average = 'binary')]\n",
    "# models_accuracy_scores[\"CatBoost\"] = [f1_score(y_test,cat.predict(x_test),average=\"weighted\"),\n",
    "#                                                  cat.score(x_test,y_test),\n",
    "#                                                  recall_score(y_test,cat.predict(x_test), average = 'binary')]"
   ]
  },
  {
   "cell_type": "code",
   "execution_count": null,
   "metadata": {
    "id": "vR-hBgTw3oZn"
   },
   "outputs": [],
   "source": [
    "# names = [\"F1-Score\",\"Accuracy\",\"Recall\"]\n",
    "# df_scores = pd.DataFrame(models_accuracy_scores.values(),columns = names,index=models_accuracy_scores.keys())\n",
    "    \n",
    "# for names in df_scores.columns:\n",
    "#     fig = plt.figure(figsize = (10, 5))\n",
    "#     ax = sns.barplot(y=df_scores[names],x=df_scores.index)\n",
    "#     ax.set_xticklabels(ax.get_xticklabels(), rotation=40, ha=\"right\") \n",
    "#     plt.xlabel(\"Methods\")\n",
    "#     plt.ylabel(names)\n",
    "#     plt.title(\"Best Perfomed Method\")\n",
    "#     plt.show()"
   ]
  },
  {
   "cell_type": "code",
   "execution_count": null,
   "metadata": {
    "id": "fvLYzCfY5X1D"
   },
   "outputs": [],
   "source": [
    "# df_scores"
   ]
  },
  {
   "cell_type": "markdown",
   "metadata": {
    "id": "bVvUKPK19zYl"
   },
   "source": [
    "## Review Model"
   ]
  },
  {
   "cell_type": "code",
   "execution_count": null,
   "metadata": {
    "colab": {
     "base_uri": "https://localhost:8080/"
    },
    "id": "BeNpTw1h86bN",
    "outputId": "6a20a97b-02f7-44c5-ea27-ab92244768e9"
   },
   "outputs": [],
   "source": [
    "def prediction(a,g,cpt,restingbp,c,f,restingECG,m,ea,op,st):\n",
    "    # a = int(a)\n",
    "    a = ((a-0.08)/(82-0.08))\n",
    "    if cpt == \"ATA\":\n",
    "        cpt = 1\n",
    "    if cpt == \"NAP\":\n",
    "        cpt = 2\n",
    "    if cpt == \"ASY\":\n",
    "        cpt = 3\n",
    "    if cpt == \"TA\":\n",
    "        cpt = 4\n",
    "\n",
    "    if g == \"male\":\n",
    "        g = 1\n",
    "    elif g == \"female\":\n",
    "         g = 0\n",
    "    else:\n",
    "         g = 2\n",
    "\n",
    "    if st == \"up\":\n",
    "        st = 0\n",
    "    else:\n",
    "        st = 1\n",
    "\n",
    "\n",
    "    pred = RF.predict([[a,g,cpt,restingbp,c,f,restingECG,m,ea,op,st]])\n",
    "    return pred[0]\n",
    "\n",
    "\n",
    "#INPUT - FROM - USER\n",
    "a = int(input(\"Enter your age : \"))\n",
    "\n",
    "g = input(\"Enter your gender : \")\n",
    "g = g.lower()\n",
    "\n",
    "\n",
    "cpt = input(\"Do you have cpt ? ATA, NAP, ASY, TA\")\n",
    "cpt = cpt.upper()\n",
    "\n",
    "restingbp = int(input(\"Do you have any restingbp ? 0 or 1 : \"))\n",
    "# restingbp = ht.lower()\n",
    "\n",
    "c = int(input(\"High Cholestrol: 1 or 0 \"))\n",
    "# m = m.lower()\n",
    "\n",
    "f = int(input(\"High fastingBS: 1 or 0 \"))\n",
    "\n",
    "restingECG = int(input(\"High restingECG: 1 or 0 \"))\n",
    "# r = r.lower()\n",
    "m = int(input(\"max hr: 1 or 0 \"))\n",
    "\n",
    "ea = int(input(\"Exercise angina: 1 or 0 \"))\n",
    "\n",
    "op = int(input(\"old peak: 1 or 0 \"))\n",
    "# gl = gl.lower()\n",
    "\n",
    "st = input(\"ST_slope : up or down\")\n",
    "st = st.lower()\n",
    "\n",
    "#call prediction function\n",
    "op = prediction(a,g,cpt,restingbp,c,f,restingECG,m,ea,op,st)\n",
    "if op == 1:\n",
    "    print(\"Person has chances of having heart disease\")\n",
    "else:\n",
    "    print(\"Patient has no risk of heart disease\")\n"
   ]
  },
  {
   "cell_type": "code",
   "execution_count": null,
   "metadata": {
    "colab": {
     "base_uri": "https://localhost:8080/"
    },
    "id": "-5RAPcIk953W",
    "outputId": "1d0aee9d-5649-4ab7-fbe2-b42f489061fe"
   },
   "outputs": [],
   "source": [
    "import pickle\n",
    "pickle.dump(model,open('model.pkl','wb'))"
   ]
  }
 ],
 "metadata": {
  "colab": {
   "provenance": []
  },
  "kernelspec": {
   "display_name": "Python 3 (ipykernel)",
   "language": "python",
   "name": "python3"
  },
  "language_info": {
   "codemirror_mode": {
    "name": "ipython",
    "version": 3
   },
   "file_extension": ".py",
   "mimetype": "text/x-python",
   "name": "python",
   "nbconvert_exporter": "python",
   "pygments_lexer": "ipython3",
   "version": "3.9.13"
  }
 },
 "nbformat": 4,
 "nbformat_minor": 1
}
